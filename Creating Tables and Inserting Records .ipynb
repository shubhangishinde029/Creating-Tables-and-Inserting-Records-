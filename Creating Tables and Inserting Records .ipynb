{
 "cells": [
  {
   "cell_type": "code",
   "execution_count": 2,
   "metadata": {},
   "outputs": [],
   "source": [
    "import mysql.connector as sql "
   ]
  },
  {
   "cell_type": "code",
   "execution_count": 5,
   "metadata": {},
   "outputs": [
    {
     "name": "stdout",
     "output_type": "stream",
     "text": [
      "<mysql.connector.connection_cext.CMySQLConnection object at 0x0000009F89CE4DC8>\n"
     ]
    }
   ],
   "source": [
    "connection = sql.connect(\n",
    "    \n",
    "    host = \"localhost\",\n",
    "    user = \"root\",\n",
    "    password = \"Shu@1995\",\n",
    "    database = \"student\"\n",
    ")\n",
    "\n",
    "print(connection)"
   ]
  },
  {
   "cell_type": "markdown",
   "metadata": {},
   "source": [
    "## Creating Database "
   ]
  },
  {
   "cell_type": "code",
   "execution_count": 6,
   "metadata": {},
   "outputs": [],
   "source": [
    "cursor = connection.cursor()\n",
    "cursor.execute(\"CREATE TABLE studentinfo(id INT AUTO_INCREMENT PRIMARY KEY, name VARCHAR(255), Subject VARCHAR(255))\")"
   ]
  },
  {
   "cell_type": "markdown",
   "metadata": {},
   "source": [
    "## Insert Records in Table "
   ]
  },
  {
   "cell_type": "code",
   "execution_count": 7,
   "metadata": {},
   "outputs": [
    {
     "name": "stdout",
     "output_type": "stream",
     "text": [
      "Row inserted 1\n"
     ]
    }
   ],
   "source": [
    "query = \"INSERT INTO studentinfo(name, Subject) VALUES (%s, %s)\"\n",
    "value = (\"John\", \"Math\")\n",
    "cursor.execute(query,value)\n",
    "print(\"Row inserted\",cursor.lastrowid)"
   ]
  },
  {
   "cell_type": "code",
   "execution_count": 8,
   "metadata": {},
   "outputs": [
    {
     "name": "stdout",
     "output_type": "stream",
     "text": [
      "Row inserted 2\n"
     ]
    }
   ],
   "source": [
    "### Insert multiple records in Table\n",
    "query = \"INSERT INTO studentinfo (name, Subject) VALUES (%s, %s)\"\n",
    "values = [(\"Krish\", \"Science\"),\n",
    "        (\"Joe\", \"History\"),\n",
    "        (\"Ankur\",\"Maths\"),\n",
    "        (\"Paul\",\"Science\"),\n",
    "        (\"Vishal\",\"English\"),\n",
    "        (\"Krish\",\"Maths\")]\n",
    "cursor.executemany(query,values)\n",
    "print(\"Row inserted\",cursor.lastrowid)"
   ]
  },
  {
   "cell_type": "markdown",
   "metadata": {},
   "source": [
    "## Select all "
   ]
  },
  {
   "cell_type": "markdown",
   "metadata": {},
   "source": [
    "selects all the columns from the \"studentinfo\" table"
   ]
  },
  {
   "cell_type": "code",
   "execution_count": 13,
   "metadata": {},
   "outputs": [],
   "source": [
    "cursor= connection.cursor()\n",
    "cursor.execute(\"Select * from studentinfo\")"
   ]
  },
  {
   "cell_type": "markdown",
   "metadata": {},
   "source": [
    "fetchall() fetches all the rows of a query result. It returns all the rows as a list of tuples. An empty list is returned if there is no record to fetch"
   ]
  },
  {
   "cell_type": "code",
   "execution_count": 10,
   "metadata": {},
   "outputs": [
    {
     "data": {
      "text/plain": [
       "[(1, 'John', 'Math'),\n",
       " (2, 'Krish', 'Science'),\n",
       " (3, 'Joe', 'History'),\n",
       " (4, 'Ankur', 'Maths'),\n",
       " (5, 'Paul', 'Science'),\n",
       " (6, 'Vishal', 'English'),\n",
       " (7, 'Krish', 'Maths')]"
      ]
     },
     "execution_count": 10,
     "metadata": {},
     "output_type": "execute_result"
    }
   ],
   "source": [
    "cursor.fetchall()"
   ]
  },
  {
   "cell_type": "code",
   "execution_count": 11,
   "metadata": {},
   "outputs": [],
   "source": [
    "### Fetch One Record At A time\n",
    "cursor.fetchone()"
   ]
  },
  {
   "cell_type": "code",
   "execution_count": 14,
   "metadata": {},
   "outputs": [
    {
     "data": {
      "text/plain": [
       "[(1, 'John', 'Math'),\n",
       " (2, 'Krish', 'Science'),\n",
       " (3, 'Joe', 'History'),\n",
       " (4, 'Ankur', 'Maths'),\n",
       " (5, 'Paul', 'Science'),\n",
       " (6, 'Vishal', 'English'),\n",
       " (7, 'Krish', 'Maths')]"
      ]
     },
     "execution_count": 14,
     "metadata": {},
     "output_type": "execute_result"
    }
   ],
   "source": [
    "lst = cursor.fetchall()\n",
    "lst"
   ]
  },
  {
   "cell_type": "markdown",
   "metadata": {},
   "source": [
    "## Select Particular Columns"
   ]
  },
  {
   "cell_type": "code",
   "execution_count": 15,
   "metadata": {},
   "outputs": [
    {
     "data": {
      "text/plain": [
       "[('Math',),\n",
       " ('Science',),\n",
       " ('History',),\n",
       " ('Maths',),\n",
       " ('Science',),\n",
       " ('English',),\n",
       " ('Maths',)]"
      ]
     },
     "execution_count": 15,
     "metadata": {},
     "output_type": "execute_result"
    }
   ],
   "source": [
    "cursor.execute(\"Select subject from studentinfo\")\n",
    "### Fetch all\n",
    "cursor.fetchall()"
   ]
  },
  {
   "cell_type": "markdown",
   "metadata": {},
   "source": [
    "The SELECT DISTINCT statement is used to return only distinct (different) values.\n",
    "\n",
    "Inside a table, a column often contains many duplicate values; and sometimes you only want to list the different (distinct) values"
   ]
  },
  {
   "cell_type": "code",
   "execution_count": 16,
   "metadata": {},
   "outputs": [
    {
     "data": {
      "text/plain": [
       "[('Math',), ('Science',), ('History',), ('Maths',), ('English',)]"
      ]
     },
     "execution_count": 16,
     "metadata": {},
     "output_type": "execute_result"
    }
   ],
   "source": [
    "##Select Disctinct Columns \n",
    "cursor.execute(\"SELECT DISTINCT subject from studentinfo\")\n",
    "##fetchall\n",
    "cursor.fetchall()"
   ]
  },
  {
   "cell_type": "markdown",
   "metadata": {},
   "source": [
    "## Drop Table "
   ]
  },
  {
   "cell_type": "markdown",
   "metadata": {},
   "source": [
    "The DROP TABLE statement is used to drop an existing table in a database"
   ]
  },
  {
   "cell_type": "code",
   "execution_count": 17,
   "metadata": {},
   "outputs": [],
   "source": [
    "cursor.execute(\"DROP TABLE studentinfo\")"
   ]
  },
  {
   "cell_type": "code",
   "execution_count": null,
   "metadata": {},
   "outputs": [],
   "source": []
  }
 ],
 "metadata": {
  "kernelspec": {
   "display_name": "Python 3",
   "language": "python",
   "name": "python3"
  },
  "language_info": {
   "codemirror_mode": {
    "name": "ipython",
    "version": 3
   },
   "file_extension": ".py",
   "mimetype": "text/x-python",
   "name": "python",
   "nbconvert_exporter": "python",
   "pygments_lexer": "ipython3",
   "version": "3.7.4"
  }
 },
 "nbformat": 4,
 "nbformat_minor": 2
}
